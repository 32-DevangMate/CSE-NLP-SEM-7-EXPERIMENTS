{
  "nbformat": 4,
  "nbformat_minor": 0,
  "metadata": {
    "colab": {
      "provenance": []
    },
    "kernelspec": {
      "name": "python3",
      "display_name": "Python 3"
    },
    "language_info": {
      "name": "python"
    }
  },
  "cells": [
    {
      "cell_type": "code",
      "execution_count": 5,
      "metadata": {
        "colab": {
          "base_uri": "https://localhost:8080/"
        },
        "id": "BNX2cq3Ij3to",
        "outputId": "5ba38431-3c8d-4250-908f-1729f5b5801b"
      },
      "outputs": [
        {
          "output_type": "stream",
          "name": "stdout",
          "text": [
            "Requirement already satisfied: nltk in /usr/local/lib/python3.10/dist-packages (3.8.1)\n",
            "Requirement already satisfied: click in /usr/local/lib/python3.10/dist-packages (from nltk) (8.1.6)\n",
            "Requirement already satisfied: joblib in /usr/local/lib/python3.10/dist-packages (from nltk) (1.3.2)\n",
            "Requirement already satisfied: regex>=2021.8.3 in /usr/local/lib/python3.10/dist-packages (from nltk) (2023.6.3)\n",
            "Requirement already satisfied: tqdm in /usr/local/lib/python3.10/dist-packages (from nltk) (4.66.1)\n"
          ]
        }
      ],
      "source": [
        "!pip install nltk"
      ]
    },
    {
      "cell_type": "code",
      "source": [
        "\n",
        "import nltk"
      ],
      "metadata": {
        "id": "Us6rYxe1kC8n"
      },
      "execution_count": 6,
      "outputs": []
    },
    {
      "cell_type": "code",
      "source": [
        "nltk.download()\n"
      ],
      "metadata": {
        "colab": {
          "base_uri": "https://localhost:8080/"
        },
        "id": "0tEHtcnpkSJ-",
        "outputId": "3991cb59-5608-4d89-d7f9-6db33e8a317f"
      },
      "execution_count": 8,
      "outputs": [
        {
          "name": "stdout",
          "output_type": "stream",
          "text": [
            "NLTK Downloader\n",
            "---------------------------------------------------------------------------\n",
            "    d) Download   l) List    u) Update   c) Config   h) Help   q) Quit\n",
            "---------------------------------------------------------------------------\n",
            "Downloader> d\n",
            "\n",
            "Download which package (l=list; x=cancel)?\n",
            "  Identifier> punkt\n"
          ]
        },
        {
          "output_type": "stream",
          "name": "stderr",
          "text": [
            "    Downloading package punkt to /root/nltk_data...\n",
            "      Package punkt is already up-to-date!\n"
          ]
        },
        {
          "name": "stdout",
          "output_type": "stream",
          "text": [
            "\n",
            "---------------------------------------------------------------------------\n",
            "    d) Download   l) List    u) Update   c) Config   h) Help   q) Quit\n",
            "---------------------------------------------------------------------------\n",
            "Downloader> q\n"
          ]
        },
        {
          "output_type": "execute_result",
          "data": {
            "text/plain": [
              "True"
            ]
          },
          "metadata": {},
          "execution_count": 8
        }
      ]
    },
    {
      "cell_type": "code",
      "source": [
        "from nltk.tokenize import sent_tokenize"
      ],
      "metadata": {
        "id": "Ogzkg325k2u2"
      },
      "execution_count": 9,
      "outputs": []
    },
    {
      "cell_type": "code",
      "source": [
        "text ='''Twenty-five years Dana had been waiting. She tried to be patient during that time but she hadn't always managed to be as patient as she'd like. But today the opportunity had finally come. The thing she always imagined would make her the happiest person in the world was about to happen. She didn't know why at this specific time she all of a sudden felt sick inside.'''"
      ],
      "metadata": {
        "id": "9nflKbO_k9Be"
      },
      "execution_count": 10,
      "outputs": []
    },
    {
      "cell_type": "code",
      "source": [
        "text"
      ],
      "metadata": {
        "colab": {
          "base_uri": "https://localhost:8080/",
          "height": 70
        },
        "id": "Y8DdRjKFlfYO",
        "outputId": "60b3d0dd-f6c6-450a-b34a-e40be594c76b"
      },
      "execution_count": 11,
      "outputs": [
        {
          "output_type": "execute_result",
          "data": {
            "text/plain": [
              "\"Twenty-five years Dana had been waiting. She tried to be patient during that time but she hadn't always managed to be as patient as she'd like. But today the opportunity had finally come. The thing she always imagined would make her the happiest person in the world was about to happen. She didn't know why at this specific time she all of a sudden felt sick inside.\""
            ],
            "application/vnd.google.colaboratory.intrinsic+json": {
              "type": "string"
            }
          },
          "metadata": {},
          "execution_count": 11
        }
      ]
    },
    {
      "cell_type": "code",
      "source": [
        "sentences = sent_tokenize (text)"
      ],
      "metadata": {
        "id": "9voQdNAelktm"
      },
      "execution_count": 12,
      "outputs": []
    },
    {
      "cell_type": "code",
      "source": [
        "sentences"
      ],
      "metadata": {
        "colab": {
          "base_uri": "https://localhost:8080/"
        },
        "id": "6WuV3dDFlmVG",
        "outputId": "459150a4-7e19-4c13-b155-e0b3714f9863"
      },
      "execution_count": 13,
      "outputs": [
        {
          "output_type": "execute_result",
          "data": {
            "text/plain": [
              "['Twenty-five years Dana had been waiting.',\n",
              " \"She tried to be patient during that time but she hadn't always managed to be as patient as she'd like.\",\n",
              " 'But today the opportunity had finally come.',\n",
              " 'The thing she always imagined would make her the happiest person in the world was about to happen.',\n",
              " \"She didn't know why at this specific time she all of a sudden felt sick inside.\"]"
            ]
          },
          "metadata": {},
          "execution_count": 13
        }
      ]
    },
    {
      "cell_type": "markdown",
      "source": [
        "**Word Tokenization**\n"
      ],
      "metadata": {
        "id": "Ol1IBMfnlvsu"
      }
    },
    {
      "cell_type": "code",
      "source": [
        "from nltk.tokenize import word_tokenize"
      ],
      "metadata": {
        "id": "0KElaylxl1F2"
      },
      "execution_count": 14,
      "outputs": []
    },
    {
      "cell_type": "code",
      "source": [
        "words = word_tokenize (text)"
      ],
      "metadata": {
        "id": "VTE5e5xjl7RO"
      },
      "execution_count": 15,
      "outputs": []
    },
    {
      "cell_type": "code",
      "source": [
        "words"
      ],
      "metadata": {
        "colab": {
          "base_uri": "https://localhost:8080/"
        },
        "id": "DzXZ64Ufl9m3",
        "outputId": "c30d6a77-a531-4aca-b70c-72706ee37da8"
      },
      "execution_count": 16,
      "outputs": [
        {
          "output_type": "execute_result",
          "data": {
            "text/plain": [
              "['Twenty-five',\n",
              " 'years',\n",
              " 'Dana',\n",
              " 'had',\n",
              " 'been',\n",
              " 'waiting',\n",
              " '.',\n",
              " 'She',\n",
              " 'tried',\n",
              " 'to',\n",
              " 'be',\n",
              " 'patient',\n",
              " 'during',\n",
              " 'that',\n",
              " 'time',\n",
              " 'but',\n",
              " 'she',\n",
              " 'had',\n",
              " \"n't\",\n",
              " 'always',\n",
              " 'managed',\n",
              " 'to',\n",
              " 'be',\n",
              " 'as',\n",
              " 'patient',\n",
              " 'as',\n",
              " 'she',\n",
              " \"'d\",\n",
              " 'like',\n",
              " '.',\n",
              " 'But',\n",
              " 'today',\n",
              " 'the',\n",
              " 'opportunity',\n",
              " 'had',\n",
              " 'finally',\n",
              " 'come',\n",
              " '.',\n",
              " 'The',\n",
              " 'thing',\n",
              " 'she',\n",
              " 'always',\n",
              " 'imagined',\n",
              " 'would',\n",
              " 'make',\n",
              " 'her',\n",
              " 'the',\n",
              " 'happiest',\n",
              " 'person',\n",
              " 'in',\n",
              " 'the',\n",
              " 'world',\n",
              " 'was',\n",
              " 'about',\n",
              " 'to',\n",
              " 'happen',\n",
              " '.',\n",
              " 'She',\n",
              " 'did',\n",
              " \"n't\",\n",
              " 'know',\n",
              " 'why',\n",
              " 'at',\n",
              " 'this',\n",
              " 'specific',\n",
              " 'time',\n",
              " 'she',\n",
              " 'all',\n",
              " 'of',\n",
              " 'a',\n",
              " 'sudden',\n",
              " 'felt',\n",
              " 'sick',\n",
              " 'inside',\n",
              " '.']"
            ]
          },
          "metadata": {},
          "execution_count": 16
        }
      ]
    },
    {
      "cell_type": "code",
      "source": [
        "for w in words:\n",
        "    print (w)"
      ],
      "metadata": {
        "colab": {
          "base_uri": "https://localhost:8080/"
        },
        "id": "RMKM4V4kmGuW",
        "outputId": "8246947a-9ccd-4495-c790-4c10ca6f077c"
      },
      "execution_count": 18,
      "outputs": [
        {
          "output_type": "stream",
          "name": "stdout",
          "text": [
            "Twenty-five\n",
            "years\n",
            "Dana\n",
            "had\n",
            "been\n",
            "waiting\n",
            ".\n",
            "She\n",
            "tried\n",
            "to\n",
            "be\n",
            "patient\n",
            "during\n",
            "that\n",
            "time\n",
            "but\n",
            "she\n",
            "had\n",
            "n't\n",
            "always\n",
            "managed\n",
            "to\n",
            "be\n",
            "as\n",
            "patient\n",
            "as\n",
            "she\n",
            "'d\n",
            "like\n",
            ".\n",
            "But\n",
            "today\n",
            "the\n",
            "opportunity\n",
            "had\n",
            "finally\n",
            "come\n",
            ".\n",
            "The\n",
            "thing\n",
            "she\n",
            "always\n",
            "imagined\n",
            "would\n",
            "make\n",
            "her\n",
            "the\n",
            "happiest\n",
            "person\n",
            "in\n",
            "the\n",
            "world\n",
            "was\n",
            "about\n",
            "to\n",
            "happen\n",
            ".\n",
            "She\n",
            "did\n",
            "n't\n",
            "know\n",
            "why\n",
            "at\n",
            "this\n",
            "specific\n",
            "time\n",
            "she\n",
            "all\n",
            "of\n",
            "a\n",
            "sudden\n",
            "felt\n",
            "sick\n",
            "inside\n",
            ".\n"
          ]
        }
      ]
    },
    {
      "cell_type": "markdown",
      "source": [
        "**Levels of Sentences Tokenization using Comprehension**"
      ],
      "metadata": {
        "id": "O7R-zy8nmcB1"
      }
    },
    {
      "cell_type": "code",
      "source": [
        "sent_tokenize (text)\n"
      ],
      "metadata": {
        "colab": {
          "base_uri": "https://localhost:8080/"
        },
        "id": "Doy3OrRYmhGt",
        "outputId": "a8930cc0-9a0a-4fd1-a025-eaa5e5f80a6e"
      },
      "execution_count": 19,
      "outputs": [
        {
          "output_type": "execute_result",
          "data": {
            "text/plain": [
              "['Twenty-five years Dana had been waiting.',\n",
              " \"She tried to be patient during that time but she hadn't always managed to be as patient as she'd like.\",\n",
              " 'But today the opportunity had finally come.',\n",
              " 'The thing she always imagined would make her the happiest person in the world was about to happen.',\n",
              " \"She didn't know why at this specific time she all of a sudden felt sick inside.\"]"
            ]
          },
          "metadata": {},
          "execution_count": 19
        }
      ]
    },
    {
      "cell_type": "code",
      "source": [
        "[word_tokenize (text) for t in sent_tokenize(text)]"
      ],
      "metadata": {
        "colab": {
          "base_uri": "https://localhost:8080/"
        },
        "id": "4iQG2Takmtvn",
        "outputId": "b4a9b727-9c75-41c7-eba5-08a4f3cc5fba"
      },
      "execution_count": 20,
      "outputs": [
        {
          "output_type": "execute_result",
          "data": {
            "text/plain": [
              "[['Twenty-five',\n",
              "  'years',\n",
              "  'Dana',\n",
              "  'had',\n",
              "  'been',\n",
              "  'waiting',\n",
              "  '.',\n",
              "  'She',\n",
              "  'tried',\n",
              "  'to',\n",
              "  'be',\n",
              "  'patient',\n",
              "  'during',\n",
              "  'that',\n",
              "  'time',\n",
              "  'but',\n",
              "  'she',\n",
              "  'had',\n",
              "  \"n't\",\n",
              "  'always',\n",
              "  'managed',\n",
              "  'to',\n",
              "  'be',\n",
              "  'as',\n",
              "  'patient',\n",
              "  'as',\n",
              "  'she',\n",
              "  \"'d\",\n",
              "  'like',\n",
              "  '.',\n",
              "  'But',\n",
              "  'today',\n",
              "  'the',\n",
              "  'opportunity',\n",
              "  'had',\n",
              "  'finally',\n",
              "  'come',\n",
              "  '.',\n",
              "  'The',\n",
              "  'thing',\n",
              "  'she',\n",
              "  'always',\n",
              "  'imagined',\n",
              "  'would',\n",
              "  'make',\n",
              "  'her',\n",
              "  'the',\n",
              "  'happiest',\n",
              "  'person',\n",
              "  'in',\n",
              "  'the',\n",
              "  'world',\n",
              "  'was',\n",
              "  'about',\n",
              "  'to',\n",
              "  'happen',\n",
              "  '.',\n",
              "  'She',\n",
              "  'did',\n",
              "  \"n't\",\n",
              "  'know',\n",
              "  'why',\n",
              "  'at',\n",
              "  'this',\n",
              "  'specific',\n",
              "  'time',\n",
              "  'she',\n",
              "  'all',\n",
              "  'of',\n",
              "  'a',\n",
              "  'sudden',\n",
              "  'felt',\n",
              "  'sick',\n",
              "  'inside',\n",
              "  '.'],\n",
              " ['Twenty-five',\n",
              "  'years',\n",
              "  'Dana',\n",
              "  'had',\n",
              "  'been',\n",
              "  'waiting',\n",
              "  '.',\n",
              "  'She',\n",
              "  'tried',\n",
              "  'to',\n",
              "  'be',\n",
              "  'patient',\n",
              "  'during',\n",
              "  'that',\n",
              "  'time',\n",
              "  'but',\n",
              "  'she',\n",
              "  'had',\n",
              "  \"n't\",\n",
              "  'always',\n",
              "  'managed',\n",
              "  'to',\n",
              "  'be',\n",
              "  'as',\n",
              "  'patient',\n",
              "  'as',\n",
              "  'she',\n",
              "  \"'d\",\n",
              "  'like',\n",
              "  '.',\n",
              "  'But',\n",
              "  'today',\n",
              "  'the',\n",
              "  'opportunity',\n",
              "  'had',\n",
              "  'finally',\n",
              "  'come',\n",
              "  '.',\n",
              "  'The',\n",
              "  'thing',\n",
              "  'she',\n",
              "  'always',\n",
              "  'imagined',\n",
              "  'would',\n",
              "  'make',\n",
              "  'her',\n",
              "  'the',\n",
              "  'happiest',\n",
              "  'person',\n",
              "  'in',\n",
              "  'the',\n",
              "  'world',\n",
              "  'was',\n",
              "  'about',\n",
              "  'to',\n",
              "  'happen',\n",
              "  '.',\n",
              "  'She',\n",
              "  'did',\n",
              "  \"n't\",\n",
              "  'know',\n",
              "  'why',\n",
              "  'at',\n",
              "  'this',\n",
              "  'specific',\n",
              "  'time',\n",
              "  'she',\n",
              "  'all',\n",
              "  'of',\n",
              "  'a',\n",
              "  'sudden',\n",
              "  'felt',\n",
              "  'sick',\n",
              "  'inside',\n",
              "  '.'],\n",
              " ['Twenty-five',\n",
              "  'years',\n",
              "  'Dana',\n",
              "  'had',\n",
              "  'been',\n",
              "  'waiting',\n",
              "  '.',\n",
              "  'She',\n",
              "  'tried',\n",
              "  'to',\n",
              "  'be',\n",
              "  'patient',\n",
              "  'during',\n",
              "  'that',\n",
              "  'time',\n",
              "  'but',\n",
              "  'she',\n",
              "  'had',\n",
              "  \"n't\",\n",
              "  'always',\n",
              "  'managed',\n",
              "  'to',\n",
              "  'be',\n",
              "  'as',\n",
              "  'patient',\n",
              "  'as',\n",
              "  'she',\n",
              "  \"'d\",\n",
              "  'like',\n",
              "  '.',\n",
              "  'But',\n",
              "  'today',\n",
              "  'the',\n",
              "  'opportunity',\n",
              "  'had',\n",
              "  'finally',\n",
              "  'come',\n",
              "  '.',\n",
              "  'The',\n",
              "  'thing',\n",
              "  'she',\n",
              "  'always',\n",
              "  'imagined',\n",
              "  'would',\n",
              "  'make',\n",
              "  'her',\n",
              "  'the',\n",
              "  'happiest',\n",
              "  'person',\n",
              "  'in',\n",
              "  'the',\n",
              "  'world',\n",
              "  'was',\n",
              "  'about',\n",
              "  'to',\n",
              "  'happen',\n",
              "  '.',\n",
              "  'She',\n",
              "  'did',\n",
              "  \"n't\",\n",
              "  'know',\n",
              "  'why',\n",
              "  'at',\n",
              "  'this',\n",
              "  'specific',\n",
              "  'time',\n",
              "  'she',\n",
              "  'all',\n",
              "  'of',\n",
              "  'a',\n",
              "  'sudden',\n",
              "  'felt',\n",
              "  'sick',\n",
              "  'inside',\n",
              "  '.'],\n",
              " ['Twenty-five',\n",
              "  'years',\n",
              "  'Dana',\n",
              "  'had',\n",
              "  'been',\n",
              "  'waiting',\n",
              "  '.',\n",
              "  'She',\n",
              "  'tried',\n",
              "  'to',\n",
              "  'be',\n",
              "  'patient',\n",
              "  'during',\n",
              "  'that',\n",
              "  'time',\n",
              "  'but',\n",
              "  'she',\n",
              "  'had',\n",
              "  \"n't\",\n",
              "  'always',\n",
              "  'managed',\n",
              "  'to',\n",
              "  'be',\n",
              "  'as',\n",
              "  'patient',\n",
              "  'as',\n",
              "  'she',\n",
              "  \"'d\",\n",
              "  'like',\n",
              "  '.',\n",
              "  'But',\n",
              "  'today',\n",
              "  'the',\n",
              "  'opportunity',\n",
              "  'had',\n",
              "  'finally',\n",
              "  'come',\n",
              "  '.',\n",
              "  'The',\n",
              "  'thing',\n",
              "  'she',\n",
              "  'always',\n",
              "  'imagined',\n",
              "  'would',\n",
              "  'make',\n",
              "  'her',\n",
              "  'the',\n",
              "  'happiest',\n",
              "  'person',\n",
              "  'in',\n",
              "  'the',\n",
              "  'world',\n",
              "  'was',\n",
              "  'about',\n",
              "  'to',\n",
              "  'happen',\n",
              "  '.',\n",
              "  'She',\n",
              "  'did',\n",
              "  \"n't\",\n",
              "  'know',\n",
              "  'why',\n",
              "  'at',\n",
              "  'this',\n",
              "  'specific',\n",
              "  'time',\n",
              "  'she',\n",
              "  'all',\n",
              "  'of',\n",
              "  'a',\n",
              "  'sudden',\n",
              "  'felt',\n",
              "  'sick',\n",
              "  'inside',\n",
              "  '.'],\n",
              " ['Twenty-five',\n",
              "  'years',\n",
              "  'Dana',\n",
              "  'had',\n",
              "  'been',\n",
              "  'waiting',\n",
              "  '.',\n",
              "  'She',\n",
              "  'tried',\n",
              "  'to',\n",
              "  'be',\n",
              "  'patient',\n",
              "  'during',\n",
              "  'that',\n",
              "  'time',\n",
              "  'but',\n",
              "  'she',\n",
              "  'had',\n",
              "  \"n't\",\n",
              "  'always',\n",
              "  'managed',\n",
              "  'to',\n",
              "  'be',\n",
              "  'as',\n",
              "  'patient',\n",
              "  'as',\n",
              "  'she',\n",
              "  \"'d\",\n",
              "  'like',\n",
              "  '.',\n",
              "  'But',\n",
              "  'today',\n",
              "  'the',\n",
              "  'opportunity',\n",
              "  'had',\n",
              "  'finally',\n",
              "  'come',\n",
              "  '.',\n",
              "  'The',\n",
              "  'thing',\n",
              "  'she',\n",
              "  'always',\n",
              "  'imagined',\n",
              "  'would',\n",
              "  'make',\n",
              "  'her',\n",
              "  'the',\n",
              "  'happiest',\n",
              "  'person',\n",
              "  'in',\n",
              "  'the',\n",
              "  'world',\n",
              "  'was',\n",
              "  'about',\n",
              "  'to',\n",
              "  'happen',\n",
              "  '.',\n",
              "  'She',\n",
              "  'did',\n",
              "  \"n't\",\n",
              "  'know',\n",
              "  'why',\n",
              "  'at',\n",
              "  'this',\n",
              "  'specific',\n",
              "  'time',\n",
              "  'she',\n",
              "  'all',\n",
              "  'of',\n",
              "  'a',\n",
              "  'sudden',\n",
              "  'felt',\n",
              "  'sick',\n",
              "  'inside',\n",
              "  '.']]"
            ]
          },
          "metadata": {},
          "execution_count": 20
        }
      ]
    },
    {
      "cell_type": "code",
      "source": [
        "from nltk.tokenize import wordpunct_tokenize"
      ],
      "metadata": {
        "id": "nkJQaRRKm3OG"
      },
      "execution_count": 21,
      "outputs": []
    },
    {
      "cell_type": "code",
      "source": [
        "wordpunct_tokenize (text)"
      ],
      "metadata": {
        "colab": {
          "base_uri": "https://localhost:8080/"
        },
        "id": "hPerST41m7KW",
        "outputId": "19c2ad6a-afa2-4813-8662-8bca5ca68e03"
      },
      "execution_count": 22,
      "outputs": [
        {
          "output_type": "execute_result",
          "data": {
            "text/plain": [
              "['Twenty',\n",
              " '-',\n",
              " 'five',\n",
              " 'years',\n",
              " 'Dana',\n",
              " 'had',\n",
              " 'been',\n",
              " 'waiting',\n",
              " '.',\n",
              " 'She',\n",
              " 'tried',\n",
              " 'to',\n",
              " 'be',\n",
              " 'patient',\n",
              " 'during',\n",
              " 'that',\n",
              " 'time',\n",
              " 'but',\n",
              " 'she',\n",
              " 'hadn',\n",
              " \"'\",\n",
              " 't',\n",
              " 'always',\n",
              " 'managed',\n",
              " 'to',\n",
              " 'be',\n",
              " 'as',\n",
              " 'patient',\n",
              " 'as',\n",
              " 'she',\n",
              " \"'\",\n",
              " 'd',\n",
              " 'like',\n",
              " '.',\n",
              " 'But',\n",
              " 'today',\n",
              " 'the',\n",
              " 'opportunity',\n",
              " 'had',\n",
              " 'finally',\n",
              " 'come',\n",
              " '.',\n",
              " 'The',\n",
              " 'thing',\n",
              " 'she',\n",
              " 'always',\n",
              " 'imagined',\n",
              " 'would',\n",
              " 'make',\n",
              " 'her',\n",
              " 'the',\n",
              " 'happiest',\n",
              " 'person',\n",
              " 'in',\n",
              " 'the',\n",
              " 'world',\n",
              " 'was',\n",
              " 'about',\n",
              " 'to',\n",
              " 'happen',\n",
              " '.',\n",
              " 'She',\n",
              " 'didn',\n",
              " \"'\",\n",
              " 't',\n",
              " 'know',\n",
              " 'why',\n",
              " 'at',\n",
              " 'this',\n",
              " 'specific',\n",
              " 'time',\n",
              " 'she',\n",
              " 'all',\n",
              " 'of',\n",
              " 'a',\n",
              " 'sudden',\n",
              " 'felt',\n",
              " 'sick',\n",
              " 'inside',\n",
              " '.']"
            ]
          },
          "metadata": {},
          "execution_count": 22
        }
      ]
    },
    {
      "cell_type": "markdown",
      "source": [
        "**Filteration of Text by converting into lower case**"
      ],
      "metadata": {
        "id": "eOzNaIasnDW-"
      }
    },
    {
      "cell_type": "code",
      "source": [
        "text.lower()"
      ],
      "metadata": {
        "colab": {
          "base_uri": "https://localhost:8080/",
          "height": 70
        },
        "id": "1O_mL026nO72",
        "outputId": "6a60bd41-85ec-4ce6-df70-662d4f407d38"
      },
      "execution_count": 23,
      "outputs": [
        {
          "output_type": "execute_result",
          "data": {
            "text/plain": [
              "\"twenty-five years dana had been waiting. she tried to be patient during that time but she hadn't always managed to be as patient as she'd like. but today the opportunity had finally come. the thing she always imagined would make her the happiest person in the world was about to happen. she didn't know why at this specific time she all of a sudden felt sick inside.\""
            ],
            "application/vnd.google.colaboratory.intrinsic+json": {
              "type": "string"
            }
          },
          "metadata": {},
          "execution_count": 23
        }
      ]
    },
    {
      "cell_type": "code",
      "source": [
        "text.upper()"
      ],
      "metadata": {
        "colab": {
          "base_uri": "https://localhost:8080/",
          "height": 70
        },
        "id": "xRwrSfwSnaKd",
        "outputId": "d4706a11-bccf-46e6-8cfc-c18428b9a19d"
      },
      "execution_count": 24,
      "outputs": [
        {
          "output_type": "execute_result",
          "data": {
            "text/plain": [
              "\"TWENTY-FIVE YEARS DANA HAD BEEN WAITING. SHE TRIED TO BE PATIENT DURING THAT TIME BUT SHE HADN'T ALWAYS MANAGED TO BE AS PATIENT AS SHE'D LIKE. BUT TODAY THE OPPORTUNITY HAD FINALLY COME. THE THING SHE ALWAYS IMAGINED WOULD MAKE HER THE HAPPIEST PERSON IN THE WORLD WAS ABOUT TO HAPPEN. SHE DIDN'T KNOW WHY AT THIS SPECIFIC TIME SHE ALL OF A SUDDEN FELT SICK INSIDE.\""
            ],
            "application/vnd.google.colaboratory.intrinsic+json": {
              "type": "string"
            }
          },
          "metadata": {},
          "execution_count": 24
        }
      ]
    }
  ]
}